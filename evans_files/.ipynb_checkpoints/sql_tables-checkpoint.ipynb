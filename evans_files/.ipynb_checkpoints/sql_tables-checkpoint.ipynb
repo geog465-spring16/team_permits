{
 "cells": [
  {
   "cell_type": "markdown",
   "metadata": {},
   "source": [
    "Evan Callia, Kyle Kusuda, Zen, Denny, Allie"
   ]
  },
  {
   "cell_type": "code",
   "execution_count": null,
   "metadata": {
    "collapsed": false
   },
   "outputs": [],
   "source": [
    "#Importing appropriate modules\n",
    "import sys\n",
    "sys.path.append('C:\\Python27\\ArcGIS10.3\\Lib\\site-packages')\n",
    "import pg\n",
    "from pg import DB\n",
    "import csv"
   ]
  },
  {
   "cell_type": "code",
   "execution_count": 2,
   "metadata": {
    "collapsed": true
   },
   "outputs": [],
   "source": [
    "#connecting to databse\n",
    "db = DB(dbname = 'geog465_evcallia', host = 'geog-db2.geog.uw.edu', port = 5432, user = 'evcallia', passwd = 'evcallia')"
   ]
  },
  {
   "cell_type": "markdown",
   "metadata": {},
   "source": [
    "Creating tables in databse\n",
    "\n",
    "Constraints are left out becasue they will have to be removed when populationg the tables. They will be added later"
   ]
  },
  {
   "cell_type": "code",
   "execution_count": null,
   "metadata": {
    "collapsed": true
   },
   "outputs": [],
   "source": [
    "#Permits\n",
    "db.query('CREATE TABLE Permits (PermitNumber int PRIMARY KEY, Description varchar(500), Value money, ApplicantName varchar(75), ApplicationDate varchar(25), IssueDate varchar(25), FinalDate varchar(25), ExpirationDate varchar(25), Contractor varchar(75), URL varchar(500), MasterNumber int, Statuses_id int, Permit_Types_id int, Categories_id int, Work_Types_id int, Location_id int, Actions_id int)')"
   ]
  },
  {
   "cell_type": "code",
   "execution_count": null,
   "metadata": {
    "collapsed": true
   },
   "outputs": [],
   "source": [
    "#Actions\n",
    "db.query('CREATE TABLE Actions (id int PRIMARY KEY, ActionType varchar(75))')"
   ]
  },
  {
   "cell_type": "code",
   "execution_count": null,
   "metadata": {
    "collapsed": true
   },
   "outputs": [],
   "source": [
    "#Categories\n",
    "db.query('CREATE TABLE Categories (id int PRIMARY KEY, Category varchar(25)')"
   ]
  },
  {
   "cell_type": "code",
   "execution_count": null,
   "metadata": {
    "collapsed": true
   },
   "outputs": [],
   "source": [
    "#Location\n",
    "db.query('CREATE TABLE Location (id int PRIMARY KEY, Address varchar(75), Latitude varchar(20), Longitude varchar(20), Location varchar(35))')"
   ]
  },
  {
   "cell_type": "code",
   "execution_count": null,
   "metadata": {
    "collapsed": true
   },
   "outputs": [],
   "source": [
    "#PermitTypes\n",
    "db.query('CREATE TABLE PermitTypes (id int PRIMARY KEY, PermitType varchar(25)')"
   ]
  },
  {
   "cell_type": "code",
   "execution_count": null,
   "metadata": {
    "collapsed": true
   },
   "outputs": [],
   "source": [
    "#Statuses\n",
    "db.query('CREATE TABLE Statuses (id int PRIMARY KEY, Status varchar(50))') "
   ]
  },
  {
   "cell_type": "code",
   "execution_count": null,
   "metadata": {
    "collapsed": true
   },
   "outputs": [],
   "source": [
    "#WorkTypes\n",
    "db.query('CREATE TABLE WorkTypes (id int PRIMARY KEY, WorkType varchar(25))')"
   ]
  },
  {
   "cell_type": "code",
   "execution_count": null,
   "metadata": {
    "collapsed": true
   },
   "outputs": [],
   "source": [
    "#LinkTable \n",
    "db.query('CREATE TABLE LinkTable (PermitNumber int PRIMARY KEY, ActionType varchar(75), Category varchar(25), Address varchar(75), PermitType varchar(25), Status varchar(50), WorkType varchar(25))')"
   ]
  },
  {
   "cell_type": "code",
   "execution_count": null,
   "metadata": {
    "collapsed": true
   },
   "outputs": [],
   "source": []
  },
  {
   "cell_type": "markdown",
   "metadata": {},
   "source": [
    "Populating Tables"
   ]
  },
  {
   "cell_type": "code",
   "execution_count": null,
   "metadata": {
    "collapsed": true
   },
   "outputs": [],
   "source": [
    "#make lsit of csvs and tables to interate through\n",
    "csv_list = ['permits.csv', 'actions.csv', 'categories.csv', 'permit_types.csv', 'location.csv', 'statuses.csv', 'work_types.csv', 'Building_Permits_Current.csv']\n",
    "table_list = ['Permits', 'Actions', 'Categries', 'PermitTypes', 'Location', 'Statuses', 'WorkTypes', 'LinkTable']\n",
    "index_counter = 0\n",
    "\n",
    "for csv in csv_list:\n",
    "    f = open('enter/pathway/here/' + csv)\n",
    "    reader = csv.reader(f, delimiter = ',')\n",
    "    all_rows_list = []\n",
    "    next(reader, None) #skip header row\n",
    "    for row in reader:\n",
    "        if csv != 'Building_Permits_Current.csv':   #contidional statement to see if LinkTable\n",
    "            row_list = []\n",
    "            for index in row:\n",
    "                row_list.append(index)\n",
    "            all_rows_list.append(row_list)\n",
    "        else:\n",
    "            #this populates the LinkTable which is a special case and indexes must be hard coded\n",
    "            all_rows_list.append(row[0], row[5], row[4], row[2], row[1], row[13], row[6])\n",
    "    f.close()\n",
    "    db.inserttable(table_list[index_counter], all_rows_list)\n",
    "    index_counter += 1"
   ]
  },
  {
   "cell_type": "code",
   "execution_count": null,
   "metadata": {
    "collapsed": true
   },
   "outputs": [],
   "source": []
  },
  {
   "cell_type": "markdown",
   "metadata": {
    "collapsed": true
   },
   "source": [
    "Populating foreign keys"
   ]
  },
  {
   "cell_type": "code",
   "execution_count": null,
   "metadata": {
    "collapsed": true
   },
   "outputs": [],
   "source": [
    "#FK field Statuses_id\n",
    "db.query('UPDATE Permits SET Statuses_id = Statuses.id FROM Statuses, linkTable WHERE linkTable.Status = Statuses.Status AND linkTable.PermitNumber = Permits.PermitNumber')"
   ]
  },
  {
   "cell_type": "code",
   "execution_count": null,
   "metadata": {
    "collapsed": true
   },
   "outputs": [],
   "source": [
    "#FK field Permit_Types_id\n",
    "db.query('UPDATE Permits SET Permit_Types_id = PermitTypes.id FROM PermitTypes, linkTable WHERE linkTable.PermitType = PermitTypes.PermitType AND linkTable.PermitNumber = Permits.PermitNumber')"
   ]
  },
  {
   "cell_type": "code",
   "execution_count": null,
   "metadata": {
    "collapsed": true
   },
   "outputs": [],
   "source": [
    "#FK field Categories_id\n",
    "db.query('UPDATE Permits SET Categories_id = Categories.id FROM Categories, linkTable WHERE linkTable.Category = Categories.Category AND linkTable.PermitNumber = Permits.PermitNumber')"
   ]
  },
  {
   "cell_type": "code",
   "execution_count": null,
   "metadata": {
    "collapsed": true
   },
   "outputs": [],
   "source": [
    "#FK field Work_Types_id\n",
    "db.query('UPDATE Permits SET Work_Types_id = WorkTypes.id FROM WorkTypes, linkTable WHERE linkTable.WorkType = WorkTypes.WorkType AND linkTable.PermitNumber = Permits.PermitNumber')"
   ]
  },
  {
   "cell_type": "code",
   "execution_count": null,
   "metadata": {
    "collapsed": true
   },
   "outputs": [],
   "source": [
    "#FK field Location_id\n",
    "db.query('UPDATE Permits SET Location_id = Location.id FROM Location, linkTable WHERE linkTable.Address = Location.Address AND linkTable.PermitNumber = Permits.PermitNumber')"
   ]
  },
  {
   "cell_type": "code",
   "execution_count": null,
   "metadata": {
    "collapsed": true
   },
   "outputs": [],
   "source": [
    "#FK field Actions_id\n",
    "db.query('UPDATE Permits SET Actions_id = Actions.id FROM Actions, linkTable WHERE linkTable.ActionType = Actions.ActionType AND linkTable.PermitNumber = Permits.PermitNumber')"
   ]
  },
  {
   "cell_type": "code",
   "execution_count": null,
   "metadata": {
    "collapsed": true
   },
   "outputs": [],
   "source": []
  },
  {
   "cell_type": "code",
   "execution_count": null,
   "metadata": {
    "collapsed": true
   },
   "outputs": [],
   "source": [
    "#add constriants back to tables"
   ]
  },
  {
   "cell_type": "code",
   "execution_count": null,
   "metadata": {
    "collapsed": true
   },
   "outputs": [],
   "source": []
  }
 ],
 "metadata": {
  "kernelspec": {
   "display_name": "Python 2",
   "language": "python",
   "name": "python2"
  },
  "language_info": {
   "codemirror_mode": {
    "name": "ipython",
    "version": 2
   },
   "file_extension": ".py",
   "mimetype": "text/x-python",
   "name": "python",
   "nbconvert_exporter": "python",
   "pygments_lexer": "ipython2",
   "version": "2.7.10"
  }
 },
 "nbformat": 4,
 "nbformat_minor": 0
}
