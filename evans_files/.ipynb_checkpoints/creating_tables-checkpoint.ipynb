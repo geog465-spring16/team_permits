{
 "cells": [
  {
   "cell_type": "markdown",
   "metadata": {},
   "source": [
    "Evan Callia\n",
    "\n",
    "Kyle Kusuda\n",
    "\n",
    "Zen\n",
    "\n",
    "Denny\n",
    "\n",
    "Allie"
   ]
  },
  {
   "cell_type": "code",
   "execution_count": null,
   "metadata": {
    "collapsed": false
   },
   "outputs": [],
   "source": [
    "#Importing appropriate modules\n",
    "import sys\n",
    "sys.path.append('C:\\Python27\\ArcGIS10.3\\Lib\\site-packages')\n",
    "import pg\n",
    "from pg import DB"
   ]
  },
  {
   "cell_type": "code",
   "execution_count": 2,
   "metadata": {
    "collapsed": true
   },
   "outputs": [],
   "source": [
    "#connecting to databse\n",
    "db = DB(dbname = 'geog465_evcallia', host = 'geog-db2.geog.uw.edu', port = 5432, user = 'evcallia', passwd = 'evcallia')"
   ]
  },
  {
   "cell_type": "code",
   "execution_count": null,
   "metadata": {
    "collapsed": true
   },
   "outputs": [],
   "source": [
    "#creating tables\n",
    "#Permits\n",
    "db.query('CREATE TABLE Permits (PermitNumber int PRIMARY KEY NOT NULL, Description varchar(500), Value money, ApplicantName varchar(75), ApplicationDate varchar(25), IssueDate varchar(25), FinalDate varchar(25), ExpirationDate varchar(25), Contractor varchar(75), URL varchar(500), MasterNumber int, Statuses_id int, Permit_Types_id int, Categories_id int, Work_Types_id int, Sites_id int, Actions_id int)')"
   ]
  },
  {
   "cell_type": "code",
   "execution_count": null,
   "metadata": {
    "collapsed": true
   },
   "outputs": [],
   "source": [
    "#Actions\n",
    "db.query('CREATE TABLE Actions (id int PRIMARY KEY NOT NULL, ActionType varchar(75))')"
   ]
  },
  {
   "cell_type": "code",
   "execution_count": null,
   "metadata": {
    "collapsed": true
   },
   "outputs": [],
   "source": [
    "#Categories\n",
    "db.query('CREATE TABLE Categories (id int PRIMARY KEY NOT NULL, Category varchar(25) NOT NULL)')"
   ]
  },
  {
   "cell_type": "code",
   "execution_count": null,
   "metadata": {
    "collapsed": true
   },
   "outputs": [],
   "source": [
    "#PermitTypes\n",
    "db.query('CREATE TABLE PermitTypes (id int PRIMARY KEY NOT NULL, WorkType varchar(25) NOT NULL)')"
   ]
  },
  {
   "cell_type": "code",
   "execution_count": null,
   "metadata": {
    "collapsed": true
   },
   "outputs": [],
   "source": [
    "#Sites\n"
   ]
  }
 ],
 "metadata": {
  "kernelspec": {
   "display_name": "Python 2",
   "language": "python",
   "name": "python2"
  },
  "language_info": {
   "codemirror_mode": {
    "name": "ipython",
    "version": 2
   },
   "file_extension": ".py",
   "mimetype": "text/x-python",
   "name": "python",
   "nbconvert_exporter": "python",
   "pygments_lexer": "ipython2",
   "version": "2.7.10"
  }
 },
 "nbformat": 4,
 "nbformat_minor": 0
}
