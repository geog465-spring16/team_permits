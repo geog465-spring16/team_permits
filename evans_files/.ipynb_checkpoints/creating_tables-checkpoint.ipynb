{
 "cells": [
  {
   "cell_type": "markdown",
   "metadata": {},
   "source": [
    "Evan Callia, Kyle Kusuda, Zen, Denny, Allie"
   ]
  },
  {
   "cell_type": "code",
   "execution_count": null,
   "metadata": {
    "collapsed": false
   },
   "outputs": [],
   "source": [
    "#Importing appropriate modules\n",
    "import sys\n",
    "sys.path.append('C:\\Python27\\ArcGIS10.3\\Lib\\site-packages')\n",
    "import pg\n",
    "from pg import DB\n",
    "import csv"
   ]
  },
  {
   "cell_type": "code",
   "execution_count": 2,
   "metadata": {
    "collapsed": true
   },
   "outputs": [],
   "source": [
    "#connecting to databse\n",
    "db = DB(dbname = 'geog465_evcallia', host = 'geog-db2.geog.uw.edu', port = 5432, user = 'evcallia', passwd = 'evcallia')"
   ]
  },
  {
   "cell_type": "markdown",
   "metadata": {},
   "source": [
    "Creating tables in databse\n",
    "\n",
    "Constraints are left out becasue they will have to be removed when populationg the tables"
   ]
  },
  {
   "cell_type": "code",
   "execution_count": null,
   "metadata": {
    "collapsed": true
   },
   "outputs": [],
   "source": [
    "#Permits\n",
    "db.query('CREATE TABLE Permits (PermitNumber int PRIMARY KEY NOT NULL, Description varchar(500), Value money, ApplicantName varchar(75), ApplicationDate varchar(25), IssueDate varchar(25), FinalDate varchar(25), ExpirationDate varchar(25), Contractor varchar(75), URL varchar(500), MasterNumber int, Statuses_id int, Permit_Types_id int, Categories_id int, Work_Types_id int, Sites_id int, Actions_id int)')"
   ]
  },
  {
   "cell_type": "code",
   "execution_count": null,
   "metadata": {
    "collapsed": true
   },
   "outputs": [],
   "source": [
    "#Actions\n",
    "db.query('CREATE TABLE Actions (id int PRIMARY KEY NOT NULL, ActionType varchar(75))')"
   ]
  },
  {
   "cell_type": "code",
   "execution_count": null,
   "metadata": {
    "collapsed": true
   },
   "outputs": [],
   "source": [
    "#Categories\n",
    "db.query('CREATE TABLE Categories (id int PRIMARY KEY NOT NULL, Category varchar(25) NOT NULL)')"
   ]
  },
  {
   "cell_type": "code",
   "execution_count": null,
   "metadata": {
    "collapsed": true
   },
   "outputs": [],
   "source": [
    "#PermitTypes\n",
    "db.query('CREATE TABLE PermitTypes (id int PRIMARY KEY NOT NULL, WorkType varchar(25) NOT NULL)')"
   ]
  },
  {
   "cell_type": "code",
   "execution_count": null,
   "metadata": {
    "collapsed": true
   },
   "outputs": [],
   "source": [
    "#Sites\n",
    "db.query('CREATE TABLE Sites (id int PRIMARY KEY NOT NULL, Address varchar(75), Longitude varchar(20), Latitude varchar(20))')"
   ]
  },
  {
   "cell_type": "code",
   "execution_count": null,
   "metadata": {
    "collapsed": true
   },
   "outputs": [],
   "source": [
    "#Statuses\n",
    "db.query('CREATE TABLE Statuses (id int PRIMARY KEY NOT NULL, Status varchar(50))')"
   ]
  },
  {
   "cell_type": "code",
   "execution_count": null,
   "metadata": {
    "collapsed": true
   },
   "outputs": [],
   "source": [
    "#WorkTypes\n",
    "db.query('CREATE TABLE Statuses (id int PRIMARY KEY NOT NULL, ActionType varchar(50))')"
   ]
  },
  {
   "cell_type": "code",
   "execution_count": null,
   "metadata": {
    "collapsed": true
   },
   "outputs": [],
   "source": []
  },
  {
   "cell_type": "markdown",
   "metadata": {},
   "source": [
    "Populating Tables"
   ]
  },
  {
   "cell_type": "code",
   "execution_count": null,
   "metadata": {
    "collapsed": true
   },
   "outputs": [],
   "source": [
    "import csv\n",
    "f = open('enter/pathway/here')                                       #FIX THIS SO IT'S RIGHT PATHWAY\n",
    "reader = csv.reader(f, delimiter = ',')\n",
    "my_list = []\n",
    "next(reader, None) #skip header row\n",
    "for row in reader:\n",
    "    my_list.append([row[0], row[1], row[2], row[3], row[4]])         #FIX THIS SO IT'S RIGHT INDEXES\n",
    "f.close()\n",
    "db.inserttable('table_name', my_list)                                #FIX THIS SO IT'S RIGHT TABLE NAME"
   ]
  },
  {
   "cell_type": "code",
   "execution_count": null,
   "metadata": {
    "collapsed": true
   },
   "outputs": [],
   "source": []
  },
  {
   "cell_type": "code",
   "execution_count": null,
   "metadata": {
    "collapsed": true
   },
   "outputs": [],
   "source": []
  },
  {
   "cell_type": "code",
   "execution_count": null,
   "metadata": {
    "collapsed": true
   },
   "outputs": [],
   "source": [
    "#add constriants back to tables"
   ]
  }
 ],
 "metadata": {
  "kernelspec": {
   "display_name": "Python 2",
   "language": "python",
   "name": "python2"
  },
  "language_info": {
   "codemirror_mode": {
    "name": "ipython",
    "version": 2
   },
   "file_extension": ".py",
   "mimetype": "text/x-python",
   "name": "python",
   "nbconvert_exporter": "python",
   "pygments_lexer": "ipython2",
   "version": "2.7.10"
  }
 },
 "nbformat": 4,
 "nbformat_minor": 0
}
